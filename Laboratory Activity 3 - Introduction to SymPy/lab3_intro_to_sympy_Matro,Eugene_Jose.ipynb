{
  "nbformat": 4,
  "nbformat_minor": 0,
  "metadata": {
    "colab": {
      "provenance": [],
      "toc_visible": true,
      "include_colab_link": true
    },
    "kernelspec": {
      "name": "python3",
      "display_name": "Python 3"
    },
    "language_info": {
      "name": "python"
    }
  },
  "cells": [
    {
      "cell_type": "markdown",
      "metadata": {
        "id": "view-in-github",
        "colab_type": "text"
      },
      "source": [
        "<a href=\"https://colab.research.google.com/github/matro-eugene-jose/COSC110_Matro-Eugene-Jose/blob/main/lab3_intro_to_sympy_Matro%2CEugene_Jose.ipynb\" target=\"_parent\"><img src=\"https://colab.research.google.com/assets/colab-badge.svg\" alt=\"Open In Colab\"/></a>"
      ]
    },
    {
      "cell_type": "markdown",
      "source": [
        "## Laboratory Activity #3: Introduction to SymPy\n",
        "\n",
        "###Objectives:\n",
        "- Apply basic symbolic calculations using SymPy"
      ],
      "metadata": {
        "id": "ry6k4qR8H7Bq"
      }
    },
    {
      "cell_type": "markdown",
      "source": [
        "#### Task # 1: Include all necessary sympy modules\n",
        "\n",
        "\n"
      ],
      "metadata": {
        "id": "G_Ua0LKbIPfK"
      }
    },
    {
      "cell_type": "code",
      "execution_count": 1,
      "metadata": {
        "id": "DPFz-qLYHiFJ"
      },
      "outputs": [],
      "source": [
        "# Import the relevant sympy modules\n",
        "from sympy import *"
      ]
    },
    {
      "cell_type": "markdown",
      "source": [
        "#### Task # 2: Basic calculation\n",
        "Solve for the following:\n",
        "\n",
        "- $\\frac{5}{3} + \\frac{\\sqrt{10}}{2}$\n",
        "- $\\sqrt{50} \\times \\sqrt{\\frac{5}{9}}$"
      ],
      "metadata": {
        "id": "3i4pd__LIl1X"
      }
    },
    {
      "cell_type": "code",
      "source": [
        "# Answer for the first expression here\n",
        "result1 = Rational(5, 3) + sqrt(10)/2\n",
        "print(f\"5/3 + sqrt(10)/2 = \")\n",
        "pprint(result1)"
      ],
      "metadata": {
        "id": "Nk9U7XU8RhEH",
        "colab": {
          "base_uri": "https://localhost:8080/"
        },
        "outputId": "8c3eeb1c-154e-4bf8-993a-c034794b2353"
      },
      "execution_count": 4,
      "outputs": [
        {
          "output_type": "stream",
          "name": "stdout",
          "text": [
            "5/3 + sqrt(10)/2 = \n",
            "√10   5\n",
            "─── + ─\n",
            " 2    3\n"
          ]
        }
      ]
    },
    {
      "cell_type": "code",
      "source": [
        "# Answer for the second expression here\n",
        "result2 = sqrt(50) * sqrt(Rational(5, 9))\n",
        "print(f\"sqrt(50) * sqrt(5/9) = \")\n",
        "pprint(result2)"
      ],
      "metadata": {
        "id": "6baME6J6Rgru",
        "colab": {
          "base_uri": "https://localhost:8080/"
        },
        "outputId": "1e1a0633-c53b-468e-a9a6-f9cb515c581c"
      },
      "execution_count": 5,
      "outputs": [
        {
          "output_type": "stream",
          "name": "stdout",
          "text": [
            "sqrt(50) * sqrt(5/9) = \n",
            "5⋅√10\n",
            "─────\n",
            "  3  \n"
          ]
        }
      ]
    },
    {
      "cell_type": "markdown",
      "source": [
        "#### Task # 3: Symbols\n",
        "Create the equation for the following using `Symbols`:\n",
        "- $2x+3y=12$\n",
        "- $x−y=4$"
      ],
      "metadata": {
        "id": "UH2m4ur7NERn"
      }
    },
    {
      "cell_type": "code",
      "source": [
        "# Declare Symbols\n",
        "x, y = symbols('x y')"
      ],
      "metadata": {
        "id": "4RUw45azRejM"
      },
      "execution_count": 6,
      "outputs": []
    },
    {
      "cell_type": "code",
      "source": [
        "  # Answer for the first equation here\n",
        "equation1 = Eq(2*x + 3*y, 12)\n",
        "pprint(equation1)"
      ],
      "metadata": {
        "id": "SQSjU4tY5pPZ",
        "colab": {
          "base_uri": "https://localhost:8080/"
        },
        "outputId": "469a9583-3f30-4e62-8289-3dd120717e97"
      },
      "execution_count": 8,
      "outputs": [
        {
          "output_type": "stream",
          "name": "stdout",
          "text": [
            "2⋅x + 3⋅y = 12\n"
          ]
        }
      ]
    },
    {
      "cell_type": "code",
      "source": [
        "# Answer for the second equation here\n",
        "equation2 = Eq(x - y, 4)\n",
        "pprint(equation2)"
      ],
      "metadata": {
        "id": "nKlN5AeURwI6",
        "colab": {
          "base_uri": "https://localhost:8080/"
        },
        "outputId": "e692134c-b3b7-4ad5-975f-14537607be50"
      },
      "execution_count": 9,
      "outputs": [
        {
          "output_type": "stream",
          "name": "stdout",
          "text": [
            "x - y = 4\n"
          ]
        }
      ]
    },
    {
      "cell_type": "markdown",
      "source": [
        "#### Task # 4: Simplification\n",
        "Simplify the following equations using the `simplify` method\n",
        "\n",
        "- $\\frac{x^2 + 2x + 1}{x + 1}$\n",
        "\n",
        "- $\\frac{1 - \\frac{1}{1 + \\frac{1}{x}}}{1 + \\frac{1}{x}}\n",
        "$"
      ],
      "metadata": {
        "id": "IS8vTb7FPDbQ"
      }
    },
    {
      "cell_type": "code",
      "source": [
        "# Define the symbol\n",
        "x = symbols('x')"
      ],
      "metadata": {
        "id": "prwNmzkA57UX"
      },
      "execution_count": 10,
      "outputs": []
    },
    {
      "cell_type": "code",
      "source": [
        "# Answer for the first equation here\n",
        "expr1 = (x**2 + 2*x + 1) / (x + 1)\n",
        "simplified_expr1 = simplify(expr1)\n",
        "print(f\"Simplified (x^2 + 2x + 1) / (x + 1) = {simplified_expr1}\")"
      ],
      "metadata": {
        "id": "38CFQlfxR0TV",
        "colab": {
          "base_uri": "https://localhost:8080/"
        },
        "outputId": "d83f818e-5ce7-4f99-dfe9-30db5ee4f818"
      },
      "execution_count": 13,
      "outputs": [
        {
          "output_type": "stream",
          "name": "stdout",
          "text": [
            "Simplified (x^2 + 2x + 1) / (x + 1) = x + 1\n"
          ]
        }
      ]
    },
    {
      "cell_type": "code",
      "source": [
        "# Answer for the second equation here\n",
        "expr2 = (1 - 1/(1 + 1/x)) / (1 + 1/x)\n",
        "simplified_expr2 = simplify(expr2)\n",
        "print(f\"Simplified (1 - 1/(1 + 1/x)) / (1 + 1/x) = \")\n",
        "pprint(simplified_expr2)"
      ],
      "metadata": {
        "id": "fSi0XQcWR2uo",
        "colab": {
          "base_uri": "https://localhost:8080/"
        },
        "outputId": "74a49d5b-21fc-4cb8-e3cf-d8213da1b340"
      },
      "execution_count": 15,
      "outputs": [
        {
          "output_type": "stream",
          "name": "stdout",
          "text": [
            "Simplified (1 - 1/(1 + 1/x)) / (1 + 1/x) = \n",
            "   x    \n",
            "────────\n",
            "       2\n",
            "(x + 1) \n"
          ]
        }
      ]
    },
    {
      "cell_type": "markdown",
      "source": [
        "### Task # 5: Expansion\n",
        "Expand the following expressions using the `expand` method\n",
        "- $(2x + 2)^2$\n",
        "- $(2x + y)(x - 2y)$\n"
      ],
      "metadata": {
        "id": "oXI_LJ-hRR_n"
      }
    },
    {
      "cell_type": "code",
      "source": [
        "# Define the symbols\n",
        "x, y = symbols('x y')"
      ],
      "metadata": {
        "id": "q-sa-v7B571B"
      },
      "execution_count": 16,
      "outputs": []
    },
    {
      "cell_type": "code",
      "source": [
        "# Answer for the first equation here\n",
        "expr1 = (2*x + 2)**2\n",
        "expanded_expr1 = expand(expr1)\n",
        "print(f\"Expanded (2x + 2)^2 = \")\n",
        "pprint(expanded_expr1)"
      ],
      "metadata": {
        "id": "OwjWp39uS0Jb",
        "colab": {
          "base_uri": "https://localhost:8080/"
        },
        "outputId": "600a9201-32f3-4c3e-d593-1a902ac88dea"
      },
      "execution_count": 18,
      "outputs": [
        {
          "output_type": "stream",
          "name": "stdout",
          "text": [
            "Expanded (2x + 2)^2 = \n",
            "   2          \n",
            "4⋅x  + 8⋅x + 4\n"
          ]
        }
      ]
    },
    {
      "cell_type": "code",
      "source": [
        "# Answer for the second equation here\n",
        "expr2 = (2*x + y)*(x - 2*y)\n",
        "expanded_expr2 = expand(expr2)\n",
        "print(f\"Expanded (2x + y)(x - 2y) = \")\n",
        "pprint(expanded_expr2)"
      ],
      "metadata": {
        "id": "g-QEmoMCS6TH",
        "colab": {
          "base_uri": "https://localhost:8080/"
        },
        "outputId": "f460c67c-f70c-404a-c8f7-0b4b451ffd60"
      },
      "execution_count": 19,
      "outputs": [
        {
          "output_type": "stream",
          "name": "stdout",
          "text": [
            "Expanded (2x + y)(x - 2y) = \n",
            "   2              2\n",
            "2⋅x  - 3⋅x⋅y - 2⋅y \n"
          ]
        }
      ]
    }
  ]
}