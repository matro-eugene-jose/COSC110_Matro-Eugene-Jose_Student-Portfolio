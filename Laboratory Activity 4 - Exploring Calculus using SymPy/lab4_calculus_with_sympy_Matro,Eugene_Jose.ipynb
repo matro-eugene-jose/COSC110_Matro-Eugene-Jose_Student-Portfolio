{
  "cells": [
    {
      "cell_type": "markdown",
      "metadata": {
        "id": "view-in-github",
        "colab_type": "text"
      },
      "source": [
        "<a href=\"https://colab.research.google.com/github/matro-eugene-jose/COSC110_Matro-Eugene-Jose/blob/main/lab4_calculus_with_sympy_Matro%2CEugene_Jose.ipynb\" target=\"_parent\"><img src=\"https://colab.research.google.com/assets/colab-badge.svg\" alt=\"Open In Colab\"/></a>"
      ]
    },
    {
      "cell_type": "markdown",
      "source": [
        "# Exploring Calculus with SymPy\n",
        "\n",
        "## Activity Instructions\n",
        "This activity is designed to help you explore how Python can be used to understand basic ideas in calculus — without needing to do any complex math.\n",
        "\n",
        "Use the Python code snippets provided to experiment and answer the questions."
      ],
      "metadata": {
        "id": "epXjlyn6ZAlm"
      },
      "id": "epXjlyn6ZAlm"
    },
    {
      "cell_type": "code",
      "source": [
        "from sympy import *"
      ],
      "metadata": {
        "id": "vZ0V7WGLXr9O"
      },
      "id": "vZ0V7WGLXr9O",
      "execution_count": 1,
      "outputs": []
    },
    {
      "cell_type": "markdown",
      "source": [
        "---\n",
        "## Playing with Symbols\n",
        "\n",
        "Try running this code:"
      ],
      "metadata": {
        "id": "RPFHhyHsYhGm"
      },
      "id": "RPFHhyHsYhGm"
    },
    {
      "cell_type": "code",
      "source": [
        "x = symbols('x')\n",
        "x + x"
      ],
      "metadata": {
        "id": "A92JlyDyYixm",
        "colab": {
          "base_uri": "https://localhost:8080/",
          "height": 38
        },
        "outputId": "02b52fc1-80bf-446e-b605-20de55cf9aed"
      },
      "id": "A92JlyDyYixm",
      "execution_count": 2,
      "outputs": [
        {
          "output_type": "execute_result",
          "data": {
            "text/plain": [
              "2*x"
            ],
            "text/latex": "$\\displaystyle 2 x$"
          },
          "metadata": {},
          "execution_count": 2
        }
      ]
    },
    {
      "cell_type": "markdown",
      "source": [
        "**1. What do you think 'x + x' means?** (Answers below):\n",
        "\n",
        "One $x$ plus another $x$ gives “$2x$”."
      ],
      "metadata": {
        "id": "PX2gRq34YloO"
      },
      "id": "PX2gRq34YloO"
    },
    {
      "cell_type": "markdown",
      "source": [
        "Now try this:"
      ],
      "metadata": {
        "id": "yVF3ZEOoYwZe"
      },
      "id": "yVF3ZEOoYwZe"
    },
    {
      "cell_type": "code",
      "source": [
        "x * x"
      ],
      "metadata": {
        "id": "bxUoWvBmYulL",
        "colab": {
          "base_uri": "https://localhost:8080/",
          "height": 38
        },
        "outputId": "4b1b8f03-1b42-4c58-9539-c7477d6f6f82"
      },
      "id": "bxUoWvBmYulL",
      "execution_count": 3,
      "outputs": [
        {
          "output_type": "execute_result",
          "data": {
            "text/plain": [
              "x**2"
            ],
            "text/latex": "$\\displaystyle x^{2}$"
          },
          "metadata": {},
          "execution_count": 3
        }
      ]
    },
    {
      "cell_type": "markdown",
      "source": [
        "**2. What does `x * x` represent?** (Answers below):\n",
        "\n",
        "Multiplying $x$ by itself yields $x^2$, the “square” of $x$."
      ],
      "metadata": {
        "id": "WTpPkyAlY1p1"
      },
      "id": "WTpPkyAlY1p1"
    },
    {
      "cell_type": "markdown",
      "source": [
        "---\n",
        "## Exploring Limits\n",
        "\n",
        "Try this code:"
      ],
      "metadata": {
        "id": "QiSJjx_VHq1p"
      },
      "id": "QiSJjx_VHq1p"
    },
    {
      "cell_type": "code",
      "source": [
        "limit(sin(x)/x, x, 0)"
      ],
      "metadata": {
        "id": "7JRyFVohH7UO",
        "colab": {
          "base_uri": "https://localhost:8080/",
          "height": 37
        },
        "outputId": "0f8740ea-d9ca-4191-f5fb-93775ccd3d67"
      },
      "id": "7JRyFVohH7UO",
      "execution_count": 4,
      "outputs": [
        {
          "output_type": "execute_result",
          "data": {
            "text/plain": [
              "1"
            ],
            "text/latex": "$\\displaystyle 1$"
          },
          "metadata": {},
          "execution_count": 4
        }
      ]
    },
    {
      "cell_type": "markdown",
      "source": [
        "**3. What result do you get? What do you think it means?** (Answers below):\n",
        "\n",
        "It gave a result of 1.\n",
        "\n",
        "The output is 1, which tells us that as $x$ approaches 0, the ratio approaches unity."
      ],
      "metadata": {
        "id": "ywTipXNaH5VC"
      },
      "id": "ywTipXNaH5VC"
    },
    {
      "cell_type": "markdown",
      "source": [
        "---\n",
        "## Playing with Derivatives\n",
        "\n",
        "Run this:"
      ],
      "metadata": {
        "id": "_0bSbQm5IPe3"
      },
      "id": "_0bSbQm5IPe3"
    },
    {
      "cell_type": "code",
      "source": [
        "diff(x**2, x)"
      ],
      "metadata": {
        "id": "ODeV9TfcISxy",
        "colab": {
          "base_uri": "https://localhost:8080/",
          "height": 38
        },
        "outputId": "78c37e00-a118-45d9-b932-8d04bd6e54db"
      },
      "id": "ODeV9TfcISxy",
      "execution_count": 5,
      "outputs": [
        {
          "output_type": "execute_result",
          "data": {
            "text/plain": [
              "2*x"
            ],
            "text/latex": "$\\displaystyle 2 x$"
          },
          "metadata": {},
          "execution_count": 5
        }
      ]
    },
    {
      "cell_type": "markdown",
      "source": [
        "**4. What is the output? Can you describe what it tells you?** (Answers below):\n",
        "\n",
        "I get $2x$, the derivative of $x^2$.\n",
        "\n",
        "It shows the instantaneous rate of change of $x^2$ grows linearly with $x$."
      ],
      "metadata": {
        "id": "zkB8nUcCIVWK"
      },
      "id": "zkB8nUcCIVWK"
    },
    {
      "cell_type": "markdown",
      "source": [
        "---\n",
        "\n",
        "## 4. Series Expansion\n",
        "\n",
        "Run this code:"
      ],
      "metadata": {
        "id": "MuBEwsMjHvaE"
      },
      "id": "MuBEwsMjHvaE"
    },
    {
      "cell_type": "code",
      "source": [
        "exp(x).series(x, 0, 4)"
      ],
      "metadata": {
        "id": "cfjBnBRDI_zz",
        "colab": {
          "base_uri": "https://localhost:8080/",
          "height": 54
        },
        "outputId": "281b2877-6a72-4943-fddb-050d9d6a63bf"
      },
      "id": "cfjBnBRDI_zz",
      "execution_count": 6,
      "outputs": [
        {
          "output_type": "execute_result",
          "data": {
            "text/plain": [
              "1 + x + x**2/2 + x**3/6 + O(x**4)"
            ],
            "text/latex": "$\\displaystyle 1 + x + \\frac{x^{2}}{2} + \\frac{x^{3}}{6} + O\\left(x^{4}\\right)$"
          },
          "metadata": {},
          "execution_count": 6
        }
      ]
    },
    {
      "cell_type": "markdown",
      "source": [
        "**5. What do you see? How many terms are shown in the result?**  (Answers below):\n",
        "\n",
        "It is the series expansion of four terms (constant, linear, quadratic, cubic) and then the “big-O” indicating higher-order terms are omitted."
      ],
      "metadata": {
        "id": "v_kHGdQlJDn0"
      },
      "id": "v_kHGdQlJDn0"
    },
    {
      "cell_type": "markdown",
      "source": [
        "---\n",
        "\n",
        "## 5. Solving Equations\n",
        "\n",
        "Try solving this equation:"
      ],
      "metadata": {
        "id": "o89x7hPEJSzC"
      },
      "id": "o89x7hPEJSzC"
    },
    {
      "cell_type": "code",
      "source": [
        "solve(Eq(x**2 - 4, 0), x)"
      ],
      "metadata": {
        "id": "nZRx2-FMJVU4",
        "colab": {
          "base_uri": "https://localhost:8080/"
        },
        "outputId": "919e8dc2-556e-4faf-977a-a47a75ce6e9c"
      },
      "id": "nZRx2-FMJVU4",
      "execution_count": 7,
      "outputs": [
        {
          "output_type": "execute_result",
          "data": {
            "text/plain": [
              "[-2, 2]"
            ]
          },
          "metadata": {},
          "execution_count": 7
        }
      ]
    },
    {
      "cell_type": "markdown",
      "source": [
        "**6. What are the answers?** (Answer below):\n",
        "\n",
        "$[2, 2]$ meaning $x=-2$ or $x=2$ satisfy $x^2-4=0$."
      ],
      "metadata": {
        "id": "BpwkEmDWJZyS"
      },
      "id": "BpwkEmDWJZyS"
    },
    {
      "cell_type": "markdown",
      "source": [
        "**7. What kind of problem do you think this is?** (Answer below):\n",
        "\n",
        "It’s a quadratic‐equation root-finding problem (degree-2 polynomial)."
      ],
      "metadata": {
        "id": "27ZbZbLIJgzK"
      },
      "id": "27ZbZbLIJgzK"
    },
    {
      "cell_type": "markdown",
      "metadata": {
        "id": "OuURTQQuXTgj"
      },
      "source": [
        "---\n",
        "\n",
        "## 6. Final Thoughts\n",
        "\n",
        "**8. What was your favorite part of this activity?** (Answer below):\n",
        "\n",
        "I found the series expansion part especially fascinating because it allows you to \"peek under the hood\" of $e^x$ and see it build itself, term by term. Watching the pattern of coefficients appear in just a single line of code really helped me grasp series approximate functions. It felt like discovering a hidden recipe for the exponential—those algebraic symbols suddenly turn into a powerful tool for approximating curves and solving differential equations."
      ],
      "id": "OuURTQQuXTgj"
    },
    {
      "cell_type": "markdown",
      "source": [
        "**9. What was something new or surprising you learned?**  (Answer below):\n",
        "\n",
        "I was honestly amazed by how SymPy can handle a maze of nested denominators—fractions within fractions within even more fractions—and simplify them into a clean, exact expression with just one call to `simplify()`. What might normally require pages of work and careful algebraic steps can be done instantly, without any risk of arithmetic mistakes. It’s a great reminder that symbolic engines aren’t only for tough calculus problems—they’re incredibly useful for unraveling any complicated rational expression and delivering a clear, easy-to-read result."
      ],
      "metadata": {
        "id": "CkwbgwxSJu8g"
      },
      "id": "CkwbgwxSJu8g"
    }
  ],
  "metadata": {
    "kernelspec": {
      "display_name": "Python 3",
      "language": "python",
      "name": "python3"
    },
    "language_info": {
      "codemirror_mode": {
        "name": "ipython",
        "version": 3
      },
      "file_extension": ".py",
      "mimetype": "text/x-python",
      "name": "python",
      "nbconvert_exporter": "python",
      "pygments_lexer": "ipython3",
      "version": "3.8.16"
    },
    "colab": {
      "provenance": [],
      "toc_visible": true,
      "include_colab_link": true
    }
  },
  "nbformat": 4,
  "nbformat_minor": 5
}